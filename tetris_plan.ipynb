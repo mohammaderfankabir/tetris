{
 "cells": [
  {
   "cell_type": "markdown",
   "metadata": {},
   "source": [
    "We want all the chips, or gates with their truth tabel, graphyical symbol, implementation, interface, hdl etc. some example are in page: 66 c or python implemetation, testscrtipt, strucutre of the whole systems etc.."
   ]
  }
 ],
 "metadata": {
  "language_info": {
   "name": "python"
  }
 },
 "nbformat": 4,
 "nbformat_minor": 2
}
